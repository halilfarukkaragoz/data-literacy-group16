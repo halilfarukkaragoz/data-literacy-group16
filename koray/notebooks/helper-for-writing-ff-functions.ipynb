{
 "cells": [
  {
   "cell_type": "markdown",
   "metadata": {},
   "source": [
    "# Helper ipynb while you write ff_ functions\n",
    "\n",
    "bu notebook ile ipynb enviroment'inden yararlanabileceksiniz. isiniz daha rahat olur umarim.\n",
    "\n",
    "Bu ipynb'daki `YourFeatureFunctions` class'ina `ff_` yazdiktan sonra onlari `feature_funcs.py` dosyasina kopyalamayi unutmayin."
   ]
  },
  {
   "cell_type": "code",
   "execution_count": 1,
   "metadata": {},
   "outputs": [],
   "source": [
    "import sys\n",
    "import os\n",
    "from pathlib import Path\n",
    "\n",
    "pwd  = Path(os.getcwd())\n",
    "sys.path.append(str(pwd.parent.parent)) # needed to use \"koray\" module"
   ]
  },
  {
   "cell_type": "code",
   "execution_count": 2,
   "metadata": {},
   "outputs": [],
   "source": [
    "import pandas as pd\n",
    "import numpy as np"
   ]
  },
  {
   "cell_type": "code",
   "execution_count": 3,
   "metadata": {},
   "outputs": [
    {
     "name": "stdout",
     "output_type": "stream",
     "text": [
      "\u001b[38;5;2m✔ Successfully loaded dataframes\u001b[0m\n"
     ]
    }
   ],
   "source": [
    "from koray.datastore.util import get_dataframes_concatd\n",
    "from koray.feature_calculation.util import get_features\n",
    "\n",
    "conference_invitations = [\n",
    "# 'NeurIPS.cc/2022/Conference/-/Blind_Submission',\n",
    "'ICLR.cc/2023/Conference/-/Blind_Submission',\n",
    "# 'ICLR.cc/2022/Conference/-/Blind_Submission',\n",
    "# 'ICLR.cc/2021/Conference/-/Blind_Submission',\n",
    "]\n",
    "\n",
    "master_paper_df, master_review_df, master_other_replies_df = get_dataframes_concatd(conference_invitations)\n"
   ]
  },
  {
   "cell_type": "code",
   "execution_count": 4,
   "metadata": {},
   "outputs": [],
   "source": [
    "def ff_example_feature_calculator_function(\n",
    "    paper_df: 'pd.DataFrame',  # i'th paper's data\n",
    "    review_df: 'pd.DataFrame',  # i'th paper's reviews\n",
    "    other_replies_df: 'pd.DataFrame',  # i'th paper's nonreviews\n",
    "    master_paper_df: 'pd.DataFrame',  # all papers' data in the conference\n",
    "    master_review_df: 'pd.DataFrame',  # all papers' reviews in the conference\n",
    "    master_other_replies_df: 'pd.DataFrame',  # all papers' nonreviews in the conference\n",
    "):\n",
    "    # Note: in the current implementation master_ dataframmes are for 1 conference.\n",
    "    # However, this behavior depends on how FeatureExtractor is used.\n",
    "\n",
    "    # these overwrite the dtype of the feature_df column\n",
    "    __overwrite_dtype__ = np.float64\n",
    "    __overwrite_dtype__ = np.int64\n",
    "\n",
    "    # write your feature calculation here\n",
    "    ...\n",
    "\n",
    "    return 1234  # this will be the value in the feature_df\n"
   ]
  },
  {
   "cell_type": "code",
   "execution_count": 19,
   "metadata": {},
   "outputs": [
    {
     "data": {
      "text/plain": [
       "<function koray.feature_calculation.feature_funcs._extract_numeric_prefix(maybe_string: object) -> int>"
      ]
     },
     "execution_count": 19,
     "metadata": {},
     "output_type": "execute_result"
    }
   ],
   "source": [
    "# note there are some util functions\n",
    "\n",
    "from koray.feature_calculation.feature_funcs import _extract_numeric_prefix\n",
    "\n",
    "_extract_numeric_prefix\n"
   ]
  },
  {
   "cell_type": "code",
   "execution_count": 40,
   "metadata": {},
   "outputs": [],
   "source": [
    "# don't forget to add the new feature functions to feature_funcs.py\n",
    "\n",
    "class YourFeatureFunctions:\n",
    "    @staticmethod\n",
    "    def ff_review_count(paper_df: 'pd.DataFrame', review_df: 'pd.DataFrame', **kwargs):\n",
    "        __overwrite_dtype__ = np.float64\n",
    "        return len(review_df)\n",
    "\n",
    "    @staticmethod\n",
    "    def ff_reviewer_content(paper_df: 'pd.DataFrame', review_df: 'pd.DataFrame', other_replies_df: 'pd.DataFrame', **kwargs):\n",
    "        # say this your new feature function. you can experiment with dataframes this way.\n",
    "\n",
    "        print(\"\\n\\npaper_df\")\n",
    "        display(paper_df)\n",
    "        print(\"\\n\\nreview_df\")\n",
    "        display(review_df)\n",
    "        print(\"\\n\\nother_replies_df\")\n",
    "        display(other_replies_df)\n",
    "\n",
    "        print(\"=====================================\")\n",
    "\n",
    "        content_dicts = review_df['content']\n",
    "        print(\"\\n\\ncontent_dicts\")\n",
    "        display(content_dicts)\n",
    "        print(type(content_dicts))\n",
    "\n",
    "        print(\"\\n\\n\")\n",
    "        one_review_content = content_dicts.iloc[0]\n",
    "        print(\"one_review_content = \", one_review_content)\n",
    "        print(\"one_review_content length = \", len(one_review_content))\n",
    "        print(\"one_review_content type = \", type(one_review_content))\n",
    "        print(\"one_review_content keys = \", one_review_content.keys())\n",
    "        print(\"one_review_content['correctness'] = \", one_review_content['correctness'])\n",
    "\n",
    "        assert False, \"this note is for development/testing/debugging purposes\"\n",
    "\n",
    "        return 0\n",
    "\n"
   ]
  },
  {
   "cell_type": "code",
   "execution_count": 41,
   "metadata": {},
   "outputs": [
    {
     "name": "stderr",
     "output_type": "stream",
     "text": [
      "  0%|          | 0/3796 [00:00<?, ?it/s]"
     ]
    },
    {
     "name": "stderr",
     "output_type": "stream",
     "text": [
      "100%|██████████| 3796/3796 [00:02<00:00, 1344.45it/s]\n"
     ]
    },
    {
     "data": {
      "text/html": [
       "<div>\n",
       "<style scoped>\n",
       "    .dataframe tbody tr th:only-of-type {\n",
       "        vertical-align: middle;\n",
       "    }\n",
       "\n",
       "    .dataframe tbody tr th {\n",
       "        vertical-align: top;\n",
       "    }\n",
       "\n",
       "    .dataframe thead th {\n",
       "        text-align: right;\n",
       "    }\n",
       "</style>\n",
       "<table border=\"1\" class=\"dataframe\">\n",
       "  <thead>\n",
       "    <tr style=\"text-align: right;\">\n",
       "      <th></th>\n",
       "      <th>paper_id</th>\n",
       "      <th>review_count</th>\n",
       "    </tr>\n",
       "  </thead>\n",
       "  <tbody>\n",
       "    <tr>\n",
       "      <th>0</th>\n",
       "      <td>-0tPmzgXS5</td>\n",
       "      <td>3.0</td>\n",
       "    </tr>\n",
       "    <tr>\n",
       "      <th>1</th>\n",
       "      <td>-1x2-lp1eZf</td>\n",
       "      <td>5.0</td>\n",
       "    </tr>\n",
       "    <tr>\n",
       "      <th>2</th>\n",
       "      <td>-2zfgNS917</td>\n",
       "      <td>4.0</td>\n",
       "    </tr>\n",
       "    <tr>\n",
       "      <th>3</th>\n",
       "      <td>-4DiyBMgv9m</td>\n",
       "      <td>5.0</td>\n",
       "    </tr>\n",
       "    <tr>\n",
       "      <th>4</th>\n",
       "      <td>-4Maz7s3YXz</td>\n",
       "      <td>3.0</td>\n",
       "    </tr>\n",
       "    <tr>\n",
       "      <th>...</th>\n",
       "      <td>...</td>\n",
       "      <td>...</td>\n",
       "    </tr>\n",
       "    <tr>\n",
       "      <th>3791</th>\n",
       "      <td>zufPou5foW</td>\n",
       "      <td>4.0</td>\n",
       "    </tr>\n",
       "    <tr>\n",
       "      <th>3792</th>\n",
       "      <td>zyLVMgsZ0U_</td>\n",
       "      <td>4.0</td>\n",
       "    </tr>\n",
       "    <tr>\n",
       "      <th>3793</th>\n",
       "      <td>zyfEWkV6it</td>\n",
       "      <td>6.0</td>\n",
       "    </tr>\n",
       "    <tr>\n",
       "      <th>3794</th>\n",
       "      <td>zzL_5WoI3I</td>\n",
       "      <td>3.0</td>\n",
       "    </tr>\n",
       "    <tr>\n",
       "      <th>3795</th>\n",
       "      <td>zzqBoIFOQ1</td>\n",
       "      <td>4.0</td>\n",
       "    </tr>\n",
       "  </tbody>\n",
       "</table>\n",
       "<p>3796 rows × 2 columns</p>\n",
       "</div>"
      ],
      "text/plain": [
       "         paper_id  review_count\n",
       "0      -0tPmzgXS5           3.0\n",
       "1     -1x2-lp1eZf           5.0\n",
       "2      -2zfgNS917           4.0\n",
       "3     -4DiyBMgv9m           5.0\n",
       "4     -4Maz7s3YXz           3.0\n",
       "...           ...           ...\n",
       "3791   zufPou5foW           4.0\n",
       "3792  zyLVMgsZ0U_           4.0\n",
       "3793   zyfEWkV6it           6.0\n",
       "3794   zzL_5WoI3I           3.0\n",
       "3795   zzqBoIFOQ1           4.0\n",
       "\n",
       "[3796 rows x 2 columns]"
      ]
     },
     "execution_count": 41,
     "metadata": {},
     "output_type": "execute_result"
    }
   ],
   "source": [
    "from koray.feature_calculation.paper_features import FeatureExtractor\n",
    "\n",
    "fe = FeatureExtractor(master_paper_df, master_review_df, master_other_replies_df, YourFeatureFunctions)\n",
    "fe.extract_features()\n",
    "fe.feature_df"
   ]
  },
  {
   "cell_type": "code",
   "execution_count": null,
   "metadata": {},
   "outputs": [],
   "source": []
  }
 ],
 "metadata": {
  "kernelspec": {
   "display_name": ".venv",
   "language": "python",
   "name": "python3"
  },
  "language_info": {
   "codemirror_mode": {
    "name": "ipython",
    "version": 3
   },
   "file_extension": ".py",
   "mimetype": "text/x-python",
   "name": "python",
   "nbconvert_exporter": "python",
   "pygments_lexer": "ipython3",
   "version": "3.13.0"
  }
 },
 "nbformat": 4,
 "nbformat_minor": 2
}
