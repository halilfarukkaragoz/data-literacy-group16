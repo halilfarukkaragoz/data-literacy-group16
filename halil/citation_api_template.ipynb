{
 "cells": [
  {
   "cell_type": "code",
   "execution_count": null,
   "metadata": {},
   "outputs": [
    {
     "name": "stdout",
     "output_type": "stream",
     "text": [
      "Title: Attention is all you need\n",
      "Citation Count: 148579\n"
     ]
    },
    {
     "data": {
      "text/plain": [
       "148579"
      ]
     },
     "execution_count": 2,
     "metadata": {},
     "output_type": "execute_result"
    }
   ],
   "source": [
    "from scholarly import scholarly\n",
    "\n",
    "def get_citation_count(paper_title):\n",
    "    try:\n",
    "        # Search for the paper by title\n",
    "        search_query = scholarly.search_pubs(paper_title)\n",
    "        \n",
    "        # Get the first result\n",
    "        paper = next(search_query)\n",
    "        \n",
    "        # Extract citation count\n",
    "        title = paper.get('bib', {}).get('title', 'Unknown Title')\n",
    "        citations = paper.get('num_citations', 0)\n",
    "        \n",
    "        print(f\"Title: {title}\")\n",
    "        print(f\"Citation Count: {citations}\")\n",
    "        \n",
    "        return citations\n",
    "    except StopIteration:\n",
    "        print(\"No paper found with this title.\")\n",
    "        return None\n",
    "    except Exception as e:\n",
    "        print(f\"An error occurred: {e}\")\n",
    "        return None\n",
    "\n",
    "# Example usage\n",
    "paper_title = \"Attention Is All You Need\"\n",
    "get_citation_count(paper_title)"
   ]
  },
  {
   "cell_type": "code",
   "execution_count": null,
   "metadata": {},
   "outputs": [],
   "source": []
  }
 ],
 "metadata": {
  "kernelspec": {
   "display_name": "base",
   "language": "python",
   "name": "python3"
  },
  "language_info": {
   "codemirror_mode": {
    "name": "ipython",
    "version": 3
   },
   "file_extension": ".py",
   "mimetype": "text/x-python",
   "name": "python",
   "nbconvert_exporter": "python",
   "pygments_lexer": "ipython3",
   "version": "3.11.8"
  }
 },
 "nbformat": 4,
 "nbformat_minor": 2
}
