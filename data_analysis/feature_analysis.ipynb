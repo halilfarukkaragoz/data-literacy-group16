{
 "cells": [
  {
   "cell_type": "code",
   "execution_count": 50,
   "metadata": {},
   "outputs": [],
   "source": [
    "import pandas as pd \n",
    "import numpy as np\n",
    "import re\n",
    "from datetime import datetime\n",
    "from sklearn.model_selection import train_test_split\n",
    "from sklearn.linear_model import LinearRegression\n",
    "from sklearn.metrics import mean_squared_error, r2_score\n",
    "from sklearn.preprocessing import StandardScaler\n",
    "import matplotlib.pyplot as plt"
   ]
  },
  {
   "cell_type": "code",
   "execution_count": 5,
   "metadata": {},
   "outputs": [
    {
     "name": "stderr",
     "output_type": "stream",
     "text": [
      "/var/folders/fl/8ng_m3ld6734_9svpd_k619m0000gn/T/ipykernel_54594/4283018634.py:56: PerformanceWarning: DataFrame is highly fragmented.  This is usually the result of calling `frame.insert` many times, which has poor performance.  Consider joining all columns at once using pd.concat(axis=1) instead. To get a de-fragmented frame, use `newframe = frame.copy()`\n",
      "  df[f'{col}_timestamp'] = df[col].astype(np.int64) / 1e9\n",
      "/var/folders/fl/8ng_m3ld6734_9svpd_k619m0000gn/T/ipykernel_54594/4283018634.py:60: PerformanceWarning: DataFrame is highly fragmented.  This is usually the result of calling `frame.insert` many times, which has poor performance.  Consider joining all columns at once using pd.concat(axis=1) instead. To get a de-fragmented frame, use `newframe = frame.copy()`\n",
      "  df[f'{col}_year'] = df[col].dt.year\n",
      "/var/folders/fl/8ng_m3ld6734_9svpd_k619m0000gn/T/ipykernel_54594/4283018634.py:61: PerformanceWarning: DataFrame is highly fragmented.  This is usually the result of calling `frame.insert` many times, which has poor performance.  Consider joining all columns at once using pd.concat(axis=1) instead. To get a de-fragmented frame, use `newframe = frame.copy()`\n",
      "  df[f'{col}_month'] = df[col].dt.month\n",
      "/var/folders/fl/8ng_m3ld6734_9svpd_k619m0000gn/T/ipykernel_54594/4283018634.py:62: PerformanceWarning: DataFrame is highly fragmented.  This is usually the result of calling `frame.insert` many times, which has poor performance.  Consider joining all columns at once using pd.concat(axis=1) instead. To get a de-fragmented frame, use `newframe = frame.copy()`\n",
      "  df[f'{col}_day'] = df[col].dt.day\n",
      "/var/folders/fl/8ng_m3ld6734_9svpd_k619m0000gn/T/ipykernel_54594/4283018634.py:63: PerformanceWarning: DataFrame is highly fragmented.  This is usually the result of calling `frame.insert` many times, which has poor performance.  Consider joining all columns at once using pd.concat(axis=1) instead. To get a de-fragmented frame, use `newframe = frame.copy()`\n",
      "  df[f'{col}_hour'] = df[col].dt.hour\n",
      "/var/folders/fl/8ng_m3ld6734_9svpd_k619m0000gn/T/ipykernel_54594/4283018634.py:64: PerformanceWarning: DataFrame is highly fragmented.  This is usually the result of calling `frame.insert` many times, which has poor performance.  Consider joining all columns at once using pd.concat(axis=1) instead. To get a de-fragmented frame, use `newframe = frame.copy()`\n",
      "  df[f'{col}_minute'] = df[col].dt.minute\n",
      "/var/folders/fl/8ng_m3ld6734_9svpd_k619m0000gn/T/ipykernel_54594/4283018634.py:65: PerformanceWarning: DataFrame is highly fragmented.  This is usually the result of calling `frame.insert` many times, which has poor performance.  Consider joining all columns at once using pd.concat(axis=1) instead. To get a de-fragmented frame, use `newframe = frame.copy()`\n",
      "  df[f'{col}_second'] = df[col].dt.second\n",
      "/var/folders/fl/8ng_m3ld6734_9svpd_k619m0000gn/T/ipykernel_54594/4283018634.py:91: PerformanceWarning: DataFrame is highly fragmented.  This is usually the result of calling `frame.insert` many times, which has poor performance.  Consider joining all columns at once using pd.concat(axis=1) instead. To get a de-fragmented frame, use `newframe = frame.copy()`\n",
      "  df['recommendation_variance'] = df[recommendation_cols].var(axis=1)\n",
      "/var/folders/fl/8ng_m3ld6734_9svpd_k619m0000gn/T/ipykernel_54594/4283018634.py:92: PerformanceWarning: DataFrame is highly fragmented.  This is usually the result of calling `frame.insert` many times, which has poor performance.  Consider joining all columns at once using pd.concat(axis=1) instead. To get a de-fragmented frame, use `newframe = frame.copy()`\n",
      "  df['recommendation_difference'] = df[recommendation_cols].max(axis=1) - df[recommendation_cols].min(axis=1)\n"
     ]
    }
   ],
   "source": [
    "file_name = \"../data/ICLR.cc-2023-Conference.csv\"\n",
    "df = pd.read_csv(file_name)\n",
    "\n",
    "# 1. Import Necessary Libraries\n",
    "# 2. Load the CSV Data\n",
    "# Replace 'reviews.csv' with your actual CSV file path if different\n",
    "# 3. Extract Numerical Features\n",
    "\n",
    "# a. Define a helper function to extract numerical prefixes\n",
    "def extract_numeric_prefix(s):\n",
    "    \"\"\"\n",
    "    Extracts the leading integer from a string.\n",
    "    If no integer is found, returns NaN.\n",
    "    \"\"\"\n",
    "    match = re.match(r'^(\\d+)', str(s).strip())\n",
    "    return int(match.group(1)) if match else np.nan\n",
    "\n",
    "# b. List of reviewers\n",
    "reviewers = ['reviewer1', 'reviewer2', 'reviewer3', 'reviewer4']\n",
    "\n",
    "# c. Columns to extract numeric prefixes from\n",
    "prefix_columns = [\n",
    "    'recommendation',\n",
    "    'confidence',\n",
    "    'correctness',\n",
    "    'technical_novelty_and_significance',\n",
    "    'empirical_novelty_and_significance'\n",
    "]\n",
    "\n",
    "# d. Extract numerical prefixes for each reviewer and specified columns\n",
    "for reviewer in reviewers:\n",
    "    for col in prefix_columns:\n",
    "        original_col = f'{reviewer}_{col}'\n",
    "        new_col = f'{reviewer}_{col}_num'\n",
    "        if original_col in df.columns:\n",
    "            df[new_col] = df[original_col].apply(extract_numeric_prefix)\n",
    "        else:\n",
    "            # If the expected column is missing, create it with NaN\n",
    "            df[new_col] = np.nan\n",
    "\n",
    "# e. Convert Date Columns to Numerical Features\n",
    "# General date columns\n",
    "date_columns = ['cdate', 'tmdate']\n",
    "\n",
    "# Reviewer-specific date columns\n",
    "for reviewer in reviewers:\n",
    "    date_columns.extend([f'{reviewer}_cdate', f'{reviewer}_tmdate'])\n",
    "\n",
    "for col in date_columns:\n",
    "    if col in df.columns:\n",
    "        # Convert to datetime, coercing errors to NaT\n",
    "        df[col] = pd.to_datetime(df[col], errors='coerce')\n",
    "        \n",
    "        # Option 1: Convert to timestamp (seconds since epoch)\n",
    "        # Handle potential NaT by filling with 0 or another placeholder\n",
    "        df[f'{col}_timestamp'] = df[col].astype(np.int64) / 1e9\n",
    "        df[f'{col}_timestamp'] = df[f'{col}_timestamp'].replace([np.inf, -np.inf], np.nan)\n",
    "        \n",
    "        # Option 2: Extract date components\n",
    "        df[f'{col}_year'] = df[col].dt.year\n",
    "        df[f'{col}_month'] = df[col].dt.month\n",
    "        df[f'{col}_day'] = df[col].dt.day\n",
    "        df[f'{col}_hour'] = df[col].dt.hour\n",
    "        df[f'{col}_minute'] = df[col].dt.minute\n",
    "        df[f'{col}_second'] = df[col].dt.second\n",
    "\n",
    "# f. Ensure Direct Numerical Columns are in Numeric Format\n",
    "# For example: 'reviewer1_length', 'reviewer2_length', etc.\n",
    "for reviewer in reviewers:\n",
    "    length_col = f'{reviewer}_length'\n",
    "    if length_col in df.columns:\n",
    "        df[length_col] = pd.to_numeric(df[length_col], errors='coerce')\n",
    "\n",
    "# 4. Handle Missing Values\n",
    "\n",
    "# a. Identify all numerical columns\n",
    "numerical_cols = df.select_dtypes(include=[np.number]).columns.tolist()\n",
    "\n",
    "# b. Fill NaNs with the median of each numerical column\n",
    "df[numerical_cols] = df[numerical_cols].fillna(df[numerical_cols].median())\n",
    "\n",
    "# 5. Compute the Target Variable\n",
    "\n",
    "# a. Extract numerical recommendation scores\n",
    "recommendation_cols = [f'{reviewer}_recommendation_num' for reviewer in reviewers]\n",
    "\n",
    "# b. Ensure recommendation columns exist\n",
    "recommendation_cols = [col for col in recommendation_cols if col in df.columns]\n",
    "\n",
    "# c. Compute variance across reviewers for each row\n",
    "df['recommendation_variance'] = df[recommendation_cols].var(axis=1)\n",
    "df['recommendation_difference'] = df[recommendation_cols].max(axis=1) - df[recommendation_cols].min(axis=1)\n",
    "\n",
    "# 6. Prepare Features and Target\n",
    "\n",
    "# a. Define target\n",
    "target = 'recommendation_variance'\n",
    "\n",
    "# b. Define feature columns\n",
    "# Exclude original string columns and columns related to recommendations\n",
    "excluded_columns = [\n",
    "    'title', 'keywords', 'TL;DR', 'abstract', 'decision',\n",
    "    'recommendation_variance'\n",
    "]\n",
    "\n",
    "# Additionally exclude original string-based reviewer columns\n",
    "string_based_cols = []\n",
    "for reviewer in reviewers:\n",
    "    string_based_cols.extend([\n",
    "        f'{reviewer}_recommendation',\n",
    "        f'{reviewer}_confidence',\n",
    "        f'{reviewer}_summary_of_the_paper',\n",
    "        f'{reviewer}_strength_and_weaknesses',\n",
    "        f'{reviewer}_clarity_quality_novelty_and_reproducibility',\n",
    "        f'{reviewer}_summary_of_the_review',\n",
    "        f'{reviewer}_flag_for_ethics_review',\n",
    "        f'{reviewer}_cdate',\n",
    "        f'{reviewer}_tmdate',\n",
    "        f'{reviewer}_recommendation_num'\n",
    "    ])\n",
    "excluded_columns.extend(string_based_cols)\n",
    "\n",
    "# Remove any excluded columns from numerical_cols\n",
    "feature_cols = [col for col in numerical_cols if col not in excluded_columns]\n",
    "\n",
    "feature_cols = []\n",
    "\n",
    "for col in numerical_cols:\n",
    "    if col not in excluded_columns:\n",
    "        feature_cols.append(col)\n",
    "        \n",
    "\n",
    "# c. Prepare the feature matrix X and target vector y\n",
    "X = df[feature_cols]\n",
    "y = df[target]"
   ]
  },
  {
   "cell_type": "markdown",
   "metadata": {},
   "source": [
    "### Mean binning"
   ]
  },
  {
   "cell_type": "code",
   "execution_count": 23,
   "metadata": {},
   "outputs": [
    {
     "name": "stderr",
     "output_type": "stream",
     "text": [
      "/var/folders/fl/8ng_m3ld6734_9svpd_k619m0000gn/T/ipykernel_54594/3657105253.py:7: PerformanceWarning: DataFrame is highly fragmented.  This is usually the result of calling `frame.insert` many times, which has poor performance.  Consider joining all columns at once using pd.concat(axis=1) instead. To get a de-fragmented frame, use `newframe = frame.copy()`\n",
      "  df['recommendation_std_dev'] = reviewer_scores_df.std(axis=1)\n",
      "/var/folders/fl/8ng_m3ld6734_9svpd_k619m0000gn/T/ipykernel_54594/3657105253.py:8: PerformanceWarning: DataFrame is highly fragmented.  This is usually the result of calling `frame.insert` many times, which has poor performance.  Consider joining all columns at once using pd.concat(axis=1) instead. To get a de-fragmented frame, use `newframe = frame.copy()`\n",
      "  df['recommendation_mean'] = reviewer_scores_df.mean(axis=1)\n"
     ]
    }
   ],
   "source": [
    "columns_to_extract = [reviewer+'_recommendation_num' for reviewer in reviewers]\n",
    "reviewer_scores_df = df[columns_to_extract]\n",
    "\n",
    "# Create columns based on dataset statistics\n",
    "df['recommendation_difference'] = reviewer_scores_df.max(axis=1) - reviewer_scores_df.min(axis=1)\n",
    "df['recommendation_variance'] = reviewer_scores_df.var(axis=1)\n",
    "df['recommendation_std_dev'] = reviewer_scores_df.std(axis=1)\n",
    "df['recommendation_mean'] = reviewer_scores_df.mean(axis=1)"
   ]
  },
  {
   "cell_type": "markdown",
   "metadata": {},
   "source": [
    "If difference between the scores is greater than 4, this means that there is a discrepancy. If the mean is greater than 4, then they think this paper is okay maybe. I binned these values to see how many elements each group has."
   ]
  },
  {
   "cell_type": "code",
   "execution_count": 31,
   "metadata": {},
   "outputs": [
    {
     "name": "stdout",
     "output_type": "stream",
     "text": [
      "Consensus bad:  290\n",
      "Consensus good:  2822\n",
      "Discrepancy bad:  69\n",
      "Discrepancy good:  489\n"
     ]
    }
   ],
   "source": [
    "mean_thredhold = 4\n",
    "std_dev_threshold = 2\n",
    "\n",
    "consensus_bad = df[(df['recommendation_mean'] < mean_thredhold) & (df['recommendation_std_dev'] < std_dev_threshold)]\n",
    "consensus_good = df[(df['recommendation_mean'] > mean_thredhold) & (df['recommendation_std_dev'] < std_dev_threshold)]\n",
    "\n",
    "discrepancy_bad = df[(df['recommendation_mean'] < mean_thredhold) & (df['recommendation_std_dev'] > std_dev_threshold)]\n",
    "discrepancy_good = df[(df['recommendation_mean'] > mean_thredhold) & (df['recommendation_std_dev'] > std_dev_threshold)]\n",
    "\n",
    "print(\"Consensus bad: \", len(consensus_bad))\n",
    "print(\"Consensus good: \", len(consensus_good))\n",
    "\n",
    "print(\"Discrepancy bad: \", len(discrepancy_bad))\n",
    "print(\"Discrepancy good: \", len(discrepancy_good))"
   ]
  },
  {
   "cell_type": "code",
   "execution_count": 36,
   "metadata": {},
   "outputs": [
    {
     "name": "stdout",
     "output_type": "stream",
     "text": [
      "Consensus bad:  256\n",
      "Consensus good:  2785\n",
      "Discrepancy bad:  103\n",
      "Discrepancy good:  530\n"
     ]
    }
   ],
   "source": [
    "mean_thredhold = 4\n",
    "difference_threshold = 4\n",
    "\n",
    "consensus_bad = df[(df['recommendation_mean'] < 4) & (df['recommendation_difference'] < 4)]\n",
    "consensus_good = df[(df['recommendation_mean'] > 4) & (df['recommendation_difference'] < 4)]\n",
    "\n",
    "discrepancy_bad = df[(df['recommendation_mean'] < 4) & (df['recommendation_difference'] >= 4)]\n",
    "discrepancy_good = df[(df['recommendation_mean'] > 4) & (df['recommendation_difference'] >= 4)]\n",
    "\n",
    "print(\"Consensus bad: \", len(consensus_bad))\n",
    "print(\"Consensus good: \", len(consensus_good))\n",
    "\n",
    "print(\"Discrepancy bad: \",len(discrepancy_bad))\n",
    "print(\"Discrepancy good: \", len(discrepancy_good))"
   ]
  },
  {
   "cell_type": "code",
   "execution_count": 49,
   "metadata": {},
   "outputs": [
    {
     "data": {
      "image/png": "[encoded data removed]",
      "text/plain": [
       "<Figure size 640x480 with 1 Axes>"
      ]
     },
     "metadata": {},
     "output_type": "display_data"
    }
   ],
   "source": [
    "values = [4, 5, 6, 7, 8, 9]\n",
    "\n",
    "# Example data (replace this with your actual data)\n",
    "disc_bad = discrepancy_bad[\"recommendation_difference\"]\n",
    "disc_good = discrepancy_good[\"recommendation_difference\"]\n",
    "\n",
    "# Count occurrences of each score in each class\n",
    "disc_bad_counts = [list(disc_bad).count(value) for value in values]\n",
    "disc_good_counts = [list(disc_good).count(value) for value in values]\n",
    "\n",
    "# Convert counts to arrays for stacking\n",
    "disc_bad_counts = np.array(disc_bad_counts)\n",
    "disc_good_counts = np.array(disc_good_counts)\n",
    "\n",
    "# Create the bar chart\n",
    "bar_width = 0.8\n",
    "x = np.arange(len(values))  # Positions for the values\n",
    "\n",
    "plt.bar(x, disc_good_counts, width=bar_width, label='Good', color='orange')\n",
    "plt.bar(x, disc_bad_counts, width=bar_width, label='Bad', color='purple', bottom=disc_good_counts)\n",
    "\n",
    "# Add labels, title, and legend\n",
    "plt.xlabel('Exact Scores')\n",
    "plt.ylabel('Frequency')\n",
    "plt.title('Stacked Histogram of Exact Scores')\n",
    "plt.xticks(ticks=x, labels=values)  # Replace x-axis with the exact score labels\n",
    "plt.legend()\n",
    "\n",
    "# Show the plot\n",
    "plt.tight_layout()\n",
    "plt.show()\n"
   ]
  },
  {
   "cell_type": "code",
   "execution_count": null,
   "metadata": {},
   "outputs": [
    {
     "data": {
      "image/png": "[encoded data removed]",
      "text/plain": [
       "<Figure size 640x480 with 1 Axes>"
      ]
     },
     "metadata": {},
     "output_type": "display_data"
    }
   ],
   "source": [
    "# Convert to numpy arrays for stacking\n",
    "disc_bad = np.array(disc_bad)\n",
    "disc_good = np.array(disc_good)\n",
    "\n",
    "# Bar width\n",
    "bar_width = 0.8\n",
    "bins = np.arange(0, 9, 1)  # Bins from 0 to 10\n",
    "# Create the bar chart\n",
    "data = [disc_bad, disc_good]\n",
    "\n",
    "plt.hist(data, bins=bins, stacked=True, label=['Bad', 'Good'], color=['purple', 'orange'])\n",
    "\n",
    "plt.xlabel('Scores')\n",
    "plt.ylabel('Frequency')\n",
    "plt.title('Stacked Histogram of Scores')\n",
    "plt.legend()\n",
    "\n",
    "# Show the plot\n",
    "plt.tight_layout()\n",
    "plt.show()\n"
   ]
  }
 ],
 "metadata": {
  "kernelspec": {
   "display_name": "brain-align",
   "language": "python",
   "name": "python3"
  },
  "language_info": {
   "codemirror_mode": {
    "name": "ipython",
    "version": 3
   },
   "file_extension": ".py",
   "mimetype": "text/x-python",
   "name": "python",
   "nbconvert_exporter": "python",
   "pygments_lexer": "ipython3",
   "version": "3.12.7"
  }
 },
 "nbformat": 4,
 "nbformat_minor": 2
}
